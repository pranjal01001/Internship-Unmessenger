{
 "cells": [
  {
   "cell_type": "code",
   "execution_count": 1,
   "id": "b62888de",
   "metadata": {},
   "outputs": [],
   "source": [
    "import requests\n",
    "from bs4 import BeautifulSoup\n",
    "import pandas as pd"
   ]
  },
  {
   "cell_type": "code",
   "execution_count": 2,
   "id": "cf364b25",
   "metadata": {},
   "outputs": [],
   "source": [
    "url = 'http://quotes.toscrape.com/page/1/'"
   ]
  },
  {
   "cell_type": "code",
   "execution_count": 3,
   "id": "94056f28",
   "metadata": {},
   "outputs": [],
   "source": [
    "response = requests.get(url)"
   ]
  },
  {
   "cell_type": "code",
   "execution_count": 4,
   "id": "2c282104",
   "metadata": {},
   "outputs": [],
   "source": [
    "response = response.content"
   ]
  },
  {
   "cell_type": "code",
   "execution_count": 5,
   "id": "f50c4be1",
   "metadata": {},
   "outputs": [],
   "source": [
    "soup = BeautifulSoup(response,'html.parser')"
   ]
  },
  {
   "cell_type": "code",
   "execution_count": 6,
   "id": "6e869983",
   "metadata": {},
   "outputs": [],
   "source": [
    "div = soup.find('div')"
   ]
  },
  {
   "cell_type": "code",
   "execution_count": 7,
   "id": "64f03fa9",
   "metadata": {},
   "outputs": [
    {
     "name": "stdout",
     "output_type": "stream",
     "text": [
      "The world as we have created it is a process of our thinking. It cannot be changed without changing our thinking.\n",
      "It is our choices, Harry, that show what we truly are, far more than our abilities.\n",
      "There are only two ways to live your life. One is as though nothing is a miracle. The other is as though everything is a miracle.\n",
      "The person, be it gentleman or lady, who has not pleasure in a good novel, must be intolerably stupid.\n",
      "Imperfection is beauty, madness is genius and it's better to be absolutely ridiculous than absolutely boring.\n",
      "Try not to become a man of success. Rather become a man of value.\n",
      "It is better to be hated for what you are than to be loved for what you are not.\n",
      "I have not failed. I've just found 10,000 ways that won't work.\n",
      "A woman is like a tea bag; you never know how strong it is until it's in hot water.\n",
      "A day without sunshine is like, you know, night.\n"
     ]
    }
   ],
   "source": [
    "contents = div.find_all('div', class_ = 'quote')\n",
    "\n",
    "for content in contents:\n",
    "    quote = content.find('span').text\n",
    "    quote = quote[1:-1]\n",
    "    print(quote)"
   ]
  },
  {
   "cell_type": "code",
   "execution_count": 8,
   "id": "1594d683",
   "metadata": {},
   "outputs": [
    {
     "name": "stdout",
     "output_type": "stream",
     "text": [
      "Albert Einstein\n",
      "J.K. Rowling\n",
      "Albert Einstein\n",
      "Jane Austen\n",
      "Marilyn Monroe\n",
      "Albert Einstein\n",
      "André Gide\n",
      "Thomas A. Edison\n",
      "Eleanor Roosevelt\n",
      "Steve Martin\n"
     ]
    }
   ],
   "source": [
    "for content in contents:\n",
    "    author = content.find('small').text\n",
    "    print(author)"
   ]
  },
  {
   "cell_type": "code",
   "execution_count": 9,
   "id": "ff92876d",
   "metadata": {},
   "outputs": [
    {
     "name": "stdout",
     "output_type": "stream",
     "text": [
      "change\n",
      "abilities\n",
      "inspirational\n",
      "aliteracy\n",
      "be-yourself\n",
      "adulthood\n",
      "life\n",
      "edison\n",
      "misattributed-eleanor-roosevelt\n",
      "humor\n"
     ]
    }
   ],
   "source": [
    "for content in contents:\n",
    "    tag = content.find('a', class_ = 'tag').text\n",
    "    print(tag)"
   ]
  },
  {
   "cell_type": "code",
   "execution_count": 10,
   "id": "7c472053",
   "metadata": {},
   "outputs": [
    {
     "name": "stdout",
     "output_type": "stream",
     "text": [
      "[['The world as we have created it is a process of our thinking. It cannot be changed without changing our thinking.', 'Albert Einstein', 'change'], ['It is our choices, Harry, that show what we truly are, far more than our abilities.', 'J.K. Rowling', 'abilities'], ['There are only two ways to live your life. One is as though nothing is a miracle. The other is as though everything is a miracle.', 'Albert Einstein', 'inspirational'], ['The person, be it gentleman or lady, who has not pleasure in a good novel, must be intolerably stupid.', 'Jane Austen', 'aliteracy'], [\"Imperfection is beauty, madness is genius and it's better to be absolutely ridiculous than absolutely boring.\", 'Marilyn Monroe', 'be-yourself'], ['Try not to become a man of success. Rather become a man of value.', 'Albert Einstein', 'adulthood'], ['It is better to be hated for what you are than to be loved for what you are not.', 'André Gide', 'life'], [\"I have not failed. I've just found 10,000 ways that won't work.\", 'Thomas A. Edison', 'edison'], [\"A woman is like a tea bag; you never know how strong it is until it's in hot water.\", 'Eleanor Roosevelt', 'misattributed-eleanor-roosevelt'], ['A day without sunshine is like, you know, night.', 'Steve Martin', 'humor']]\n"
     ]
    }
   ],
   "source": [
    "contents = div.find_all('div', class_ = 'quote')\n",
    "\n",
    "data = []\n",
    "\n",
    "for content in contents:\n",
    "    quote = content.find('span').text\n",
    "    quote = quote[1:-1]\n",
    "    author = content.find('small').text\n",
    "    tag = content.find('a', class_ = 'tag').text\n",
    "    data.append([quote,author,tag])\n",
    "\n",
    "print(data)"
   ]
  },
  {
   "cell_type": "code",
   "execution_count": 11,
   "id": "c26b6211",
   "metadata": {},
   "outputs": [],
   "source": [
    "data = []\n",
    "\n",
    "for i in range(1,3):\n",
    "    url = f'http://quotes.toscrape.com/page/{i}/'\n",
    "    response = requests.get(url)\n",
    "    response = response.content\n",
    "    soup = BeautifulSoup(response,'html.parser')\n",
    "    div = soup.find('div')\n",
    "    contents = div.find_all('div', class_ = 'quote')\n",
    "    for content in contents:\n",
    "        quote = content.find('span').text\n",
    "        quote = quote[1:-1]\n",
    "        author = content.find('small').text\n",
    "        tag = content.find('a', class_ = 'tag').text\n",
    "        data.append([quote,author,tag])"
   ]
  },
  {
   "cell_type": "code",
   "execution_count": 12,
   "id": "ede8d58b",
   "metadata": {},
   "outputs": [],
   "source": [
    "df = pd.DataFrame(data,columns=['quote','author','tag'])"
   ]
  },
  {
   "cell_type": "code",
   "execution_count": 13,
   "id": "ede9c7ec",
   "metadata": {},
   "outputs": [
    {
     "data": {
      "text/html": [
       "<div>\n",
       "<style scoped>\n",
       "    .dataframe tbody tr th:only-of-type {\n",
       "        vertical-align: middle;\n",
       "    }\n",
       "\n",
       "    .dataframe tbody tr th {\n",
       "        vertical-align: top;\n",
       "    }\n",
       "\n",
       "    .dataframe thead th {\n",
       "        text-align: right;\n",
       "    }\n",
       "</style>\n",
       "<table border=\"1\" class=\"dataframe\">\n",
       "  <thead>\n",
       "    <tr style=\"text-align: right;\">\n",
       "      <th></th>\n",
       "      <th>quote</th>\n",
       "      <th>author</th>\n",
       "      <th>tag</th>\n",
       "    </tr>\n",
       "  </thead>\n",
       "  <tbody>\n",
       "    <tr>\n",
       "      <th>0</th>\n",
       "      <td>The world as we have created it is a process o...</td>\n",
       "      <td>Albert Einstein</td>\n",
       "      <td>change</td>\n",
       "    </tr>\n",
       "    <tr>\n",
       "      <th>1</th>\n",
       "      <td>It is our choices, Harry, that show what we tr...</td>\n",
       "      <td>J.K. Rowling</td>\n",
       "      <td>abilities</td>\n",
       "    </tr>\n",
       "    <tr>\n",
       "      <th>2</th>\n",
       "      <td>There are only two ways to live your life. One...</td>\n",
       "      <td>Albert Einstein</td>\n",
       "      <td>inspirational</td>\n",
       "    </tr>\n",
       "    <tr>\n",
       "      <th>3</th>\n",
       "      <td>The person, be it gentleman or lady, who has n...</td>\n",
       "      <td>Jane Austen</td>\n",
       "      <td>aliteracy</td>\n",
       "    </tr>\n",
       "    <tr>\n",
       "      <th>4</th>\n",
       "      <td>Imperfection is beauty, madness is genius and ...</td>\n",
       "      <td>Marilyn Monroe</td>\n",
       "      <td>be-yourself</td>\n",
       "    </tr>\n",
       "    <tr>\n",
       "      <th>5</th>\n",
       "      <td>Try not to become a man of success. Rather bec...</td>\n",
       "      <td>Albert Einstein</td>\n",
       "      <td>adulthood</td>\n",
       "    </tr>\n",
       "    <tr>\n",
       "      <th>6</th>\n",
       "      <td>It is better to be hated for what you are than...</td>\n",
       "      <td>André Gide</td>\n",
       "      <td>life</td>\n",
       "    </tr>\n",
       "    <tr>\n",
       "      <th>7</th>\n",
       "      <td>I have not failed. I've just found 10,000 ways...</td>\n",
       "      <td>Thomas A. Edison</td>\n",
       "      <td>edison</td>\n",
       "    </tr>\n",
       "    <tr>\n",
       "      <th>8</th>\n",
       "      <td>A woman is like a tea bag; you never know how ...</td>\n",
       "      <td>Eleanor Roosevelt</td>\n",
       "      <td>misattributed-eleanor-roosevelt</td>\n",
       "    </tr>\n",
       "    <tr>\n",
       "      <th>9</th>\n",
       "      <td>A day without sunshine is like, you know, night.</td>\n",
       "      <td>Steve Martin</td>\n",
       "      <td>humor</td>\n",
       "    </tr>\n",
       "    <tr>\n",
       "      <th>10</th>\n",
       "      <td>This life is what you make it. No matter what,...</td>\n",
       "      <td>Marilyn Monroe</td>\n",
       "      <td>friends</td>\n",
       "    </tr>\n",
       "    <tr>\n",
       "      <th>11</th>\n",
       "      <td>It takes a great deal of bravery to stand up t...</td>\n",
       "      <td>J.K. Rowling</td>\n",
       "      <td>courage</td>\n",
       "    </tr>\n",
       "    <tr>\n",
       "      <th>12</th>\n",
       "      <td>If you can't explain it to a six year old, you...</td>\n",
       "      <td>Albert Einstein</td>\n",
       "      <td>simplicity</td>\n",
       "    </tr>\n",
       "    <tr>\n",
       "      <th>13</th>\n",
       "      <td>You may not be her first, her last, or her onl...</td>\n",
       "      <td>Bob Marley</td>\n",
       "      <td>love</td>\n",
       "    </tr>\n",
       "    <tr>\n",
       "      <th>14</th>\n",
       "      <td>I like nonsense, it wakes up the brain cells. ...</td>\n",
       "      <td>Dr. Seuss</td>\n",
       "      <td>fantasy</td>\n",
       "    </tr>\n",
       "    <tr>\n",
       "      <th>15</th>\n",
       "      <td>I may not have gone where I intended to go, bu...</td>\n",
       "      <td>Douglas Adams</td>\n",
       "      <td>life</td>\n",
       "    </tr>\n",
       "    <tr>\n",
       "      <th>16</th>\n",
       "      <td>The opposite of love is not hate, it's indiffe...</td>\n",
       "      <td>Elie Wiesel</td>\n",
       "      <td>activism</td>\n",
       "    </tr>\n",
       "    <tr>\n",
       "      <th>17</th>\n",
       "      <td>It is not a lack of love, but a lack of friend...</td>\n",
       "      <td>Friedrich Nietzsche</td>\n",
       "      <td>friendship</td>\n",
       "    </tr>\n",
       "    <tr>\n",
       "      <th>18</th>\n",
       "      <td>Good friends, good books, and a sleepy conscie...</td>\n",
       "      <td>Mark Twain</td>\n",
       "      <td>books</td>\n",
       "    </tr>\n",
       "    <tr>\n",
       "      <th>19</th>\n",
       "      <td>Life is what happens to us while we are making...</td>\n",
       "      <td>Allen Saunders</td>\n",
       "      <td>fate</td>\n",
       "    </tr>\n",
       "  </tbody>\n",
       "</table>\n",
       "</div>"
      ],
      "text/plain": [
       "                                                quote               author  \\\n",
       "0   The world as we have created it is a process o...      Albert Einstein   \n",
       "1   It is our choices, Harry, that show what we tr...         J.K. Rowling   \n",
       "2   There are only two ways to live your life. One...      Albert Einstein   \n",
       "3   The person, be it gentleman or lady, who has n...          Jane Austen   \n",
       "4   Imperfection is beauty, madness is genius and ...       Marilyn Monroe   \n",
       "5   Try not to become a man of success. Rather bec...      Albert Einstein   \n",
       "6   It is better to be hated for what you are than...           André Gide   \n",
       "7   I have not failed. I've just found 10,000 ways...     Thomas A. Edison   \n",
       "8   A woman is like a tea bag; you never know how ...    Eleanor Roosevelt   \n",
       "9    A day without sunshine is like, you know, night.         Steve Martin   \n",
       "10  This life is what you make it. No matter what,...       Marilyn Monroe   \n",
       "11  It takes a great deal of bravery to stand up t...         J.K. Rowling   \n",
       "12  If you can't explain it to a six year old, you...      Albert Einstein   \n",
       "13  You may not be her first, her last, or her onl...           Bob Marley   \n",
       "14  I like nonsense, it wakes up the brain cells. ...            Dr. Seuss   \n",
       "15  I may not have gone where I intended to go, bu...        Douglas Adams   \n",
       "16  The opposite of love is not hate, it's indiffe...          Elie Wiesel   \n",
       "17  It is not a lack of love, but a lack of friend...  Friedrich Nietzsche   \n",
       "18  Good friends, good books, and a sleepy conscie...           Mark Twain   \n",
       "19  Life is what happens to us while we are making...       Allen Saunders   \n",
       "\n",
       "                                tag  \n",
       "0                            change  \n",
       "1                         abilities  \n",
       "2                     inspirational  \n",
       "3                         aliteracy  \n",
       "4                       be-yourself  \n",
       "5                         adulthood  \n",
       "6                              life  \n",
       "7                            edison  \n",
       "8   misattributed-eleanor-roosevelt  \n",
       "9                             humor  \n",
       "10                          friends  \n",
       "11                          courage  \n",
       "12                       simplicity  \n",
       "13                             love  \n",
       "14                          fantasy  \n",
       "15                             life  \n",
       "16                         activism  \n",
       "17                       friendship  \n",
       "18                            books  \n",
       "19                             fate  "
      ]
     },
     "execution_count": 13,
     "metadata": {},
     "output_type": "execute_result"
    }
   ],
   "source": [
    "df"
   ]
  },
  {
   "cell_type": "code",
   "execution_count": 14,
   "id": "c7395f69",
   "metadata": {},
   "outputs": [],
   "source": [
    "df.to_csv('quotes_scrape.csv')"
   ]
  },
  {
   "cell_type": "code",
   "execution_count": null,
   "id": "41fe70e4",
   "metadata": {},
   "outputs": [],
   "source": []
  }
 ],
 "metadata": {
  "kernelspec": {
   "display_name": "Python 3 (ipykernel)",
   "language": "python",
   "name": "python3"
  },
  "language_info": {
   "codemirror_mode": {
    "name": "ipython",
    "version": 3
   },
   "file_extension": ".py",
   "mimetype": "text/x-python",
   "name": "python",
   "nbconvert_exporter": "python",
   "pygments_lexer": "ipython3",
   "version": "3.10.5"
  }
 },
 "nbformat": 4,
 "nbformat_minor": 5
}
